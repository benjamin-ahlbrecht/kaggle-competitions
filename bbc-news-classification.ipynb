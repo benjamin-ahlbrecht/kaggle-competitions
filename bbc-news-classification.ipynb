{
 "cells": [
  {
   "cell_type": "markdown",
   "id": "950c16f2",
   "metadata": {
    "papermill": {
     "duration": 0.010609,
     "end_time": "2022-06-21T05:51:06.461237",
     "exception": false,
     "start_time": "2022-06-21T05:51:06.450628",
     "status": "completed"
    },
    "tags": []
   },
   "source": [
    "# BBC News Classification\n",
    "Here, we seek to classify BBC articles in one of 5 categories:\n",
    "1. Business\n",
    "2. Entertainment\n",
    "3. Politics\n",
    "4. Sport\n",
    "5. Tech\n",
    "\n",
    "To do this, we will utilize Non-negative Matrix Factorization to extract common features from words, which are encoded using sklearn's TF-IDF vectorizer. From here, we compare the approach to standard supervised learning algorithms (RandomForest and AdaBoost). The overall, data-analysis process is described below:\n",
    "1. **Data Ingestion, Inspection, Description, and Visualization:** to search for missing values or other inconsistencies and gain a better understanding of the data at hand\n",
    "2. **Data Processing:** Vectorize data into a TF-IDF matrix\n",
    "3. **Model Building:** Creating and training of NMF, RandomForest, and AdaBoost models.\n",
    "4. **Model Submission:** Testing of model accuracy via Kaggle submission for each model\n",
    "5. **Model Analysis and Comparsion:** Analysis of scores and NMF versus supervised learning algorithms"
   ]
  },
  {
   "cell_type": "code",
   "execution_count": 1,
   "id": "874762cb",
   "metadata": {
    "_cell_guid": "b1076dfc-b9ad-4769-8c92-a6c4dae69d19",
    "_uuid": "8f2839f25d086af736a60e9eeb907d3b93b6e0e5",
    "execution": {
     "iopub.execute_input": "2022-06-21T05:51:06.478916Z",
     "iopub.status.busy": "2022-06-21T05:51:06.478493Z",
     "iopub.status.idle": "2022-06-21T05:51:06.493486Z",
     "shell.execute_reply": "2022-06-21T05:51:06.492590Z"
    },
    "papermill": {
     "duration": 0.026716,
     "end_time": "2022-06-21T05:51:06.495681",
     "exception": false,
     "start_time": "2022-06-21T05:51:06.468965",
     "status": "completed"
    },
    "tags": []
   },
   "outputs": [
    {
     "name": "stdout",
     "output_type": "stream",
     "text": [
      "/kaggle/input/learn-ai-bbc/BBC News Train.csv\n",
      "/kaggle/input/learn-ai-bbc/BBC News Sample Solution.csv\n",
      "/kaggle/input/learn-ai-bbc/BBC News Test.csv\n"
     ]
    }
   ],
   "source": [
    "# This Python 3 environment comes with many helpful analytics libraries installed\n",
    "# It is defined by the kaggle/python Docker image: https://github.com/kaggle/docker-python\n",
    "# For example, here's several helpful packages to load\n",
    "\n",
    "import numpy as np # linear algebra\n",
    "import pandas as pd # data processing, CSV file I/O (e.g. pd.read_csv)\n",
    "\n",
    "# Input data files are available in the read-only \"../input/\" directory\n",
    "# For example, running this (by clicking run or pressing Shift+Enter) will list all files under the input directory\n",
    "\n",
    "import os\n",
    "for dirname, _, filenames in os.walk('/kaggle/input'):\n",
    "    for filename in filenames:\n",
    "        print(os.path.join(dirname, filename))\n",
    "\n",
    "# You can write up to 20GB to the current directory (/kaggle/working/) that gets preserved as output when you create a version using \"Save & Run All\" \n",
    "# You can also write temporary files to /kaggle/temp/, but they won't be saved outside of the current session"
   ]
  },
  {
   "cell_type": "code",
   "execution_count": 2,
   "id": "b920c6ed",
   "metadata": {
    "execution": {
     "iopub.execute_input": "2022-06-21T05:51:06.509616Z",
     "iopub.status.busy": "2022-06-21T05:51:06.509111Z",
     "iopub.status.idle": "2022-06-21T05:51:21.208771Z",
     "shell.execute_reply": "2022-06-21T05:51:21.207855Z"
    },
    "papermill": {
     "duration": 14.707881,
     "end_time": "2022-06-21T05:51:21.210586",
     "exception": false,
     "start_time": "2022-06-21T05:51:06.502705",
     "status": "completed"
    },
    "tags": []
   },
   "outputs": [
    {
     "name": "stdout",
     "output_type": "stream",
     "text": [
      "Collecting klib\r\n",
      "  Downloading klib-1.0.1-py3-none-any.whl (20 kB)\r\n",
      "Requirement already satisfied: scipy<2.0.0,>=1.1.0 in /opt/conda/lib/python3.7/site-packages (from klib) (1.7.3)\r\n",
      "Requirement already satisfied: numpy<2.0.0,>=1.16.3 in /opt/conda/lib/python3.7/site-packages (from klib) (1.21.6)\r\n",
      "Requirement already satisfied: pandas<2.0.0,>=1.1.2 in /opt/conda/lib/python3.7/site-packages (from klib) (1.3.5)\r\n",
      "Requirement already satisfied: seaborn<0.12.0,>=0.11.1 in /opt/conda/lib/python3.7/site-packages (from klib) (0.11.2)\r\n",
      "Requirement already satisfied: Jinja2<4.0.0,>=3.0.3 in /opt/conda/lib/python3.7/site-packages (from klib) (3.1.2)\r\n",
      "Requirement already satisfied: matplotlib<4.0.0,>=3.0.3 in /opt/conda/lib/python3.7/site-packages (from klib) (3.5.2)\r\n",
      "Requirement already satisfied: MarkupSafe>=2.0 in /opt/conda/lib/python3.7/site-packages (from Jinja2<4.0.0,>=3.0.3->klib) (2.0.1)\r\n",
      "Requirement already satisfied: kiwisolver>=1.0.1 in /opt/conda/lib/python3.7/site-packages (from matplotlib<4.0.0,>=3.0.3->klib) (1.4.2)\r\n",
      "Requirement already satisfied: packaging>=20.0 in /opt/conda/lib/python3.7/site-packages (from matplotlib<4.0.0,>=3.0.3->klib) (21.3)\r\n",
      "Requirement already satisfied: python-dateutil>=2.7 in /opt/conda/lib/python3.7/site-packages (from matplotlib<4.0.0,>=3.0.3->klib) (2.8.2)\r\n",
      "Requirement already satisfied: pillow>=6.2.0 in /opt/conda/lib/python3.7/site-packages (from matplotlib<4.0.0,>=3.0.3->klib) (9.1.0)\r\n",
      "Requirement already satisfied: fonttools>=4.22.0 in /opt/conda/lib/python3.7/site-packages (from matplotlib<4.0.0,>=3.0.3->klib) (4.33.3)\r\n",
      "Requirement already satisfied: pyparsing>=2.2.1 in /opt/conda/lib/python3.7/site-packages (from matplotlib<4.0.0,>=3.0.3->klib) (3.0.9)\r\n",
      "Requirement already satisfied: cycler>=0.10 in /opt/conda/lib/python3.7/site-packages (from matplotlib<4.0.0,>=3.0.3->klib) (0.11.0)\r\n",
      "Requirement already satisfied: pytz>=2017.3 in /opt/conda/lib/python3.7/site-packages (from pandas<2.0.0,>=1.1.2->klib) (2022.1)\r\n",
      "Requirement already satisfied: typing-extensions in /opt/conda/lib/python3.7/site-packages (from kiwisolver>=1.0.1->matplotlib<4.0.0,>=3.0.3->klib) (4.2.0)\r\n",
      "Requirement already satisfied: six>=1.5 in /opt/conda/lib/python3.7/site-packages (from python-dateutil>=2.7->matplotlib<4.0.0,>=3.0.3->klib) (1.16.0)\r\n",
      "Installing collected packages: klib\r\n",
      "Successfully installed klib-1.0.1\r\n",
      "\u001b[33mWARNING: Running pip as the 'root' user can result in broken permissions and conflicting behaviour with the system package manager. It is recommended to use a virtual environment instead: https://pip.pypa.io/warnings/venv\u001b[0m\u001b[33m\r\n",
      "\u001b[0m"
     ]
    }
   ],
   "source": [
    "!pip install klib"
   ]
  },
  {
   "cell_type": "code",
   "execution_count": 3,
   "id": "4f99468e",
   "metadata": {
    "execution": {
     "iopub.execute_input": "2022-06-21T05:51:21.222756Z",
     "iopub.status.busy": "2022-06-21T05:51:21.222406Z",
     "iopub.status.idle": "2022-06-21T05:51:22.966941Z",
     "shell.execute_reply": "2022-06-21T05:51:22.964814Z"
    },
    "papermill": {
     "duration": 1.753898,
     "end_time": "2022-06-21T05:51:22.969884",
     "exception": false,
     "start_time": "2022-06-21T05:51:21.215986",
     "status": "completed"
    },
    "tags": []
   },
   "outputs": [],
   "source": [
    "# ML Models\n",
    "from sklearn.decomposition import NMF\n",
    "from sklearn.ensemble import RandomForestClassifier\n",
    "from sklearn.ensemble import AdaBoostClassifier\n",
    "\n",
    "# TF-IDF vectorizer\n",
    "from sklearn.feature_extraction.text import TfidfVectorizer\n",
    "\n",
    "# Data Inspection\n",
    "import klib\n",
    "\n",
    "# Visualization\n",
    "from matplotlib import pyplot as plt\n",
    "import seaborn as sns\n",
    "\n",
    "# Classification metrics\n",
    "from sklearn.metrics import classification_report\n",
    "from sklearn.metrics import confusion_matrix\n",
    "\n",
    "# etc...\n",
    "from itertools import permutations"
   ]
  },
  {
   "cell_type": "code",
   "execution_count": 4,
   "id": "2ead6f9e",
   "metadata": {
    "execution": {
     "iopub.execute_input": "2022-06-21T05:51:22.989220Z",
     "iopub.status.busy": "2022-06-21T05:51:22.988808Z",
     "iopub.status.idle": "2022-06-21T05:51:23.020519Z",
     "shell.execute_reply": "2022-06-21T05:51:23.019674Z"
    },
    "papermill": {
     "duration": 0.043796,
     "end_time": "2022-06-21T05:51:23.022506",
     "exception": false,
     "start_time": "2022-06-21T05:51:22.978710",
     "status": "completed"
    },
    "tags": []
   },
   "outputs": [],
   "source": [
    "class Data:\n",
    "    def __init__(self, df_train, df_test):\n",
    "        \"\"\"Load data as a Pandas DataFrame in preparation for model building, analysis.\"\"\"\n",
    "        self.df_train = df_train\n",
    "        self.df_test = df_test\n",
    "        \n",
    "        # Capture the potential categories\n",
    "        self.categories = pd.unique(df_train[\"Category\"])\n",
    "        self.n_categories = len(self.categories)\n",
    "        \n",
    "        # Extract the training labels\n",
    "        self.train_y = df_train[\"Category\"]\n",
    "        \n",
    "        # Vectorize the document text to create our training and testing features\n",
    "        self.vectorize()\n",
    "        \n",
    "        # Create a dictionary to hold our fitted models\n",
    "        self.models = {}\n",
    "    \n",
    "    def __str__(self):\n",
    "        return f\"\"\"\\\n",
    "BBC News Data:\n",
    "├── Categories:         {self.categories}\n",
    "├── # Categories:       {self.n_categories}\n",
    "├── Train Observations: {len(self.df_train)}\n",
    "└── Test Observations:  {len(self.df_test)}\n",
    "\n",
    "Train TF-IDF Matrix: {self.train_x.shape}\n",
    "Test TF-IDF Matrix:  {self.test_x.shape}\n",
    "\n",
    "Fitted Models:\n",
    "{self.models}\\\n",
    "\"\"\"\n",
    "    \n",
    "    def vectorize(self):\n",
    "        \"\"\"Vectorize the data into an TF-IDF matrix.\"\"\"\n",
    "        vectorizer = TfidfVectorizer(min_df=50, stop_words=\"english\")\n",
    "        \n",
    "        self.train_x = vectorizer.fit_transform(self.df_train[\"Text\"])\n",
    "        self.test_x = vectorizer.transform(self.df_test[\"Text\"])\n",
    "        self.feature_names = vectorizer.get_feature_names_out()\n",
    "    \n",
    "    def fit_nmf(self, beta_loss=\"frobenius\"):\n",
    "        \"\"\"Fit the vectorized training data to a Non-negative Matrix Factorization (NMF) model.\"\"\"\n",
    "        model = NMF(n_components=self.n_categories, solver=\"mu\", beta_loss=beta_loss)                    \n",
    "        model.fit(self.train_x)\n",
    "        \n",
    "        # Add the fitted model to our models dictionary\n",
    "        self.models[f\"nmf-{beta_loss}\"] = model\n",
    "    \n",
    "    def predict_nmf(self, tfidf=None, beta_loss=\"frobenius\"):\n",
    "        \"\"\"Predict from the fitted NMF model and generate cluster indices for each observation.\n",
    "        \n",
    "        Parameters\n",
    "        ----------\n",
    "        tfidf: Array-like or None, default=None\n",
    "            The TF-IDF matrix transformed from the training data. If None, it will utilize the\n",
    "            training data.\n",
    "        \n",
    "        Returns\n",
    "        -------\n",
    "        predictions: np.ndarray\n",
    "            A 1D numpy array containing the cluster index predictions\n",
    "        \"\"\"\n",
    "        assert f\"nmf-{beta_loss}\" in self.models.keys(), \"Must fit an NMF model prior to making predictions.\"\n",
    "        model = self.models[f\"nmf-{beta_loss}\"]\n",
    "        \n",
    "        if tfidf is None:\n",
    "            tfidf = self.train_x\n",
    "        \n",
    "        # Transform the fitted NMF matrix to obtain the features matrix\n",
    "        model_features = model.transform(tfidf)\n",
    "        model_components = pd.DataFrame(model.components_, columns=self.feature_names)\n",
    "        \n",
    "        # Make predictions from the model\n",
    "        predictions = np.argmax(model_features, axis=1)\n",
    "        return predictions\n",
    "                \n",
    "    def fit_random_forest(self):\n",
    "        \"\"\"Fit the vectorized training data to a random forest model.\"\"\"\n",
    "        model = RandomForestClassifier(n_estimators=250)\n",
    "        model.fit(self.train_x, self.train_y)\n",
    "        \n",
    "        # Add the fitted model to our models dictionary\n",
    "        self.models[\"rf\"] = model\n",
    "    \n",
    "    def predict_random_forest(self, tfidf=None):\n",
    "        \"\"\"Predict from the fitted random forest model. If tfidf is None, the training\n",
    "        observations are utilized instead.\"\"\"\n",
    "        assert \"rf\" in self.models.keys(), \"Must fit a random forest model prior to making predictions.\"\n",
    "        model = self.models[\"rf\"]\n",
    "        \n",
    "        if tfidf is None:\n",
    "            tfidf = self.train_x\n",
    "        \n",
    "        predictions = model.predict(tfidf)\n",
    "        return predictions\n",
    "            \n",
    "    def fit_ada_boost(self):\n",
    "        \"\"\"Fit the vectorized training data to a AdaBoost model.\"\"\"\n",
    "        model = AdaBoostClassifier(n_estimators=250)\n",
    "        model.fit(self.train_x, self.train_y)\n",
    "        \n",
    "        # Add the fitted model to our models dictionary\n",
    "        self.models[\"ada\"] = model\n",
    "    \n",
    "    def predict_ada_boost(self, tfidf=None):\n",
    "        \"\"\"Predict from the fitted ada boost model. If tfidf is None, the training\n",
    "        observations are utilized instead.\"\"\"\n",
    "        assert \"ada\" in self.models.keys(), \"Must fit an ada boost model prior to making predictions.\"\n",
    "        model = self.models[\"ada\"]\n",
    "        \n",
    "        if tfidf is None:\n",
    "            tfidf = self.train_x\n",
    "        \n",
    "        predictions = model.predict(tfidf)\n",
    "        return predictions\n",
    "    \n",
    "    \n",
    "def labels_to_indices(indices_pred, labels_true, labels):\n",
    "    \"\"\"Map index predictions to the most accurate labels based on the underlying truth\n",
    "    \n",
    "    Parameters\n",
    "    ----------\n",
    "    indices_pred: np.ndarray\n",
    "        1D array of cluster index predictions\n",
    "    labels_true: iterable\n",
    "        Iterable containing the true labels\n",
    "    labels: iterable\n",
    "        The potential labels\n",
    "        \n",
    "    Returns\n",
    "    -------\n",
    "    best_mapping: dict\n",
    "        The mapping from labels to indices that provides the most accurate results\n",
    "    \"\"\"\n",
    "    n_labels = len(labels)# To avoid divergence in itakura-saito, we must add small values to our training data\n",
    "\n",
    "    n = len(indices_pred)\n",
    "    \n",
    "    # Store a best accuracy and permutation mapping to later return\n",
    "    best_accuracy = 0\n",
    "    best_mapping = None\n",
    "\n",
    "    # Create different permutations of the potential indices\n",
    "    for perm in permutations(range(n_labels)):\n",
    "        # Generate the mapping {label} -> {index}\n",
    "        mapping = {label: perm[i] for i, label in enumerate(labels)}\n",
    "\n",
    "        # Iterate through the truth and apply the mapping\n",
    "        label_true_inds = np.array([mapping[label] for label in labels_true])\n",
    "\n",
    "        # Compute the accuracy\n",
    "        accuracy = np.sum(label_true_inds == indices_pred) / n\n",
    "\n",
    "        if accuracy > best_accuracy:\n",
    "            best_accuracy = accuracy\n",
    "            best_mapping = mapping\n",
    "\n",
    "    return best_mapping\n",
    "\n",
    "\n",
    "def plot_confusion_matrix(confusion_matrix, labels):\n",
    "    \"\"\"Plots a confusion matrix given the matrix and labels.\"\"\"\n",
    "    fig, ax = plt.subplots(figsize=(13, 8))\n",
    "    sns.heatmap(\n",
    "        confusion_matrix,\n",
    "        annot=True,\n",
    "        fmt=\"d\",\n",
    "        linewidths=0.5,\n",
    "        ax=ax,\n",
    "        xticklabels=labels,\n",
    "        yticklabels=labels\n",
    "    )\n",
    "\n",
    "    ax.set_title(\"Confusion Matrix\")\n",
    "    ax.set_xlabel(\"Predicted\")\n",
    "    ax.set_ylabel(\"Truth\")\n",
    "    \n",
    "    return (fig, ax)"
   ]
  },
  {
   "cell_type": "markdown",
   "id": "e3d2a330",
   "metadata": {
    "papermill": {
     "duration": 0.008031,
     "end_time": "2022-06-21T05:51:23.036303",
     "exception": false,
     "start_time": "2022-06-21T05:51:23.028272",
     "status": "completed"
    },
    "tags": []
   },
   "source": [
    "## 1. Data Ingestion, Inspection, Description, and Visualization\n",
    "We will begin by loading in the data, and inspecting it for any missing values. Since it is text data, it is hard to visualize. To clean the data, we first gain a general understanding of the dataframes by displaying them. Using the `missingval_plot` function from `klib`, we can investigate whether any missing values exist. Lastly, to provide a visualization element, we create a bar plot containing the frequencies of each category in the training data."
   ]
  },
  {
   "cell_type": "code",
   "execution_count": 5,
   "id": "6df94970",
   "metadata": {
    "execution": {
     "iopub.execute_input": "2022-06-21T05:51:23.054207Z",
     "iopub.status.busy": "2022-06-21T05:51:23.053635Z",
     "iopub.status.idle": "2022-06-21T05:51:23.527347Z",
     "shell.execute_reply": "2022-06-21T05:51:23.526547Z"
    },
    "papermill": {
     "duration": 0.484776,
     "end_time": "2022-06-21T05:51:23.529157",
     "exception": false,
     "start_time": "2022-06-21T05:51:23.044381",
     "status": "completed"
    },
    "tags": []
   },
   "outputs": [
    {
     "data": {
      "text/html": [
       "<div>\n",
       "<style scoped>\n",
       "    .dataframe tbody tr th:only-of-type {\n",
       "        vertical-align: middle;\n",
       "    }\n",
       "\n",
       "    .dataframe tbody tr th {\n",
       "        vertical-align: top;\n",
       "    }\n",
       "\n",
       "    .dataframe thead th {\n",
       "        text-align: right;\n",
       "    }\n",
       "</style>\n",
       "<table border=\"1\" class=\"dataframe\">\n",
       "  <thead>\n",
       "    <tr style=\"text-align: right;\">\n",
       "      <th></th>\n",
       "      <th>ArticleId</th>\n",
       "      <th>Text</th>\n",
       "      <th>Category</th>\n",
       "    </tr>\n",
       "  </thead>\n",
       "  <tbody>\n",
       "    <tr>\n",
       "      <th>0</th>\n",
       "      <td>1833</td>\n",
       "      <td>worldcom ex-boss launches defence lawyers defe...</td>\n",
       "      <td>business</td>\n",
       "    </tr>\n",
       "    <tr>\n",
       "      <th>1</th>\n",
       "      <td>154</td>\n",
       "      <td>german business confidence slides german busin...</td>\n",
       "      <td>business</td>\n",
       "    </tr>\n",
       "    <tr>\n",
       "      <th>2</th>\n",
       "      <td>1101</td>\n",
       "      <td>bbc poll indicates economic gloom citizens in ...</td>\n",
       "      <td>business</td>\n",
       "    </tr>\n",
       "    <tr>\n",
       "      <th>3</th>\n",
       "      <td>1976</td>\n",
       "      <td>lifestyle  governs mobile choice  faster  bett...</td>\n",
       "      <td>tech</td>\n",
       "    </tr>\n",
       "    <tr>\n",
       "      <th>4</th>\n",
       "      <td>917</td>\n",
       "      <td>enron bosses in $168m payout eighteen former e...</td>\n",
       "      <td>business</td>\n",
       "    </tr>\n",
       "    <tr>\n",
       "      <th>...</th>\n",
       "      <td>...</td>\n",
       "      <td>...</td>\n",
       "      <td>...</td>\n",
       "    </tr>\n",
       "    <tr>\n",
       "      <th>1485</th>\n",
       "      <td>857</td>\n",
       "      <td>double eviction from big brother model caprice...</td>\n",
       "      <td>entertainment</td>\n",
       "    </tr>\n",
       "    <tr>\n",
       "      <th>1486</th>\n",
       "      <td>325</td>\n",
       "      <td>dj double act revamp chart show dj duo jk and ...</td>\n",
       "      <td>entertainment</td>\n",
       "    </tr>\n",
       "    <tr>\n",
       "      <th>1487</th>\n",
       "      <td>1590</td>\n",
       "      <td>weak dollar hits reuters revenues at media gro...</td>\n",
       "      <td>business</td>\n",
       "    </tr>\n",
       "    <tr>\n",
       "      <th>1488</th>\n",
       "      <td>1587</td>\n",
       "      <td>apple ipod family expands market apple has exp...</td>\n",
       "      <td>tech</td>\n",
       "    </tr>\n",
       "    <tr>\n",
       "      <th>1489</th>\n",
       "      <td>538</td>\n",
       "      <td>santy worm makes unwelcome visit thousands of ...</td>\n",
       "      <td>tech</td>\n",
       "    </tr>\n",
       "  </tbody>\n",
       "</table>\n",
       "<p>1490 rows × 3 columns</p>\n",
       "</div>"
      ],
      "text/plain": [
       "      ArticleId                                               Text  \\\n",
       "0          1833  worldcom ex-boss launches defence lawyers defe...   \n",
       "1           154  german business confidence slides german busin...   \n",
       "2          1101  bbc poll indicates economic gloom citizens in ...   \n",
       "3          1976  lifestyle  governs mobile choice  faster  bett...   \n",
       "4           917  enron bosses in $168m payout eighteen former e...   \n",
       "...         ...                                                ...   \n",
       "1485        857  double eviction from big brother model caprice...   \n",
       "1486        325  dj double act revamp chart show dj duo jk and ...   \n",
       "1487       1590  weak dollar hits reuters revenues at media gro...   \n",
       "1488       1587  apple ipod family expands market apple has exp...   \n",
       "1489        538  santy worm makes unwelcome visit thousands of ...   \n",
       "\n",
       "           Category  \n",
       "0          business  \n",
       "1          business  \n",
       "2          business  \n",
       "3              tech  \n",
       "4          business  \n",
       "...             ...  \n",
       "1485  entertainment  \n",
       "1486  entertainment  \n",
       "1487       business  \n",
       "1488           tech  \n",
       "1489           tech  \n",
       "\n",
       "[1490 rows x 3 columns]"
      ]
     },
     "metadata": {},
     "output_type": "display_data"
    },
    {
     "data": {
      "text/html": [
       "<div>\n",
       "<style scoped>\n",
       "    .dataframe tbody tr th:only-of-type {\n",
       "        vertical-align: middle;\n",
       "    }\n",
       "\n",
       "    .dataframe tbody tr th {\n",
       "        vertical-align: top;\n",
       "    }\n",
       "\n",
       "    .dataframe thead th {\n",
       "        text-align: right;\n",
       "    }\n",
       "</style>\n",
       "<table border=\"1\" class=\"dataframe\">\n",
       "  <thead>\n",
       "    <tr style=\"text-align: right;\">\n",
       "      <th></th>\n",
       "      <th>ArticleId</th>\n",
       "      <th>Text</th>\n",
       "    </tr>\n",
       "  </thead>\n",
       "  <tbody>\n",
       "    <tr>\n",
       "      <th>0</th>\n",
       "      <td>1018</td>\n",
       "      <td>qpr keeper day heads for preston queens park r...</td>\n",
       "    </tr>\n",
       "    <tr>\n",
       "      <th>1</th>\n",
       "      <td>1319</td>\n",
       "      <td>software watching while you work software that...</td>\n",
       "    </tr>\n",
       "    <tr>\n",
       "      <th>2</th>\n",
       "      <td>1138</td>\n",
       "      <td>d arcy injury adds to ireland woe gordon d arc...</td>\n",
       "    </tr>\n",
       "    <tr>\n",
       "      <th>3</th>\n",
       "      <td>459</td>\n",
       "      <td>india s reliance family feud heats up the ongo...</td>\n",
       "    </tr>\n",
       "    <tr>\n",
       "      <th>4</th>\n",
       "      <td>1020</td>\n",
       "      <td>boro suffer morrison injury blow middlesbrough...</td>\n",
       "    </tr>\n",
       "    <tr>\n",
       "      <th>...</th>\n",
       "      <td>...</td>\n",
       "      <td>...</td>\n",
       "    </tr>\n",
       "    <tr>\n",
       "      <th>730</th>\n",
       "      <td>1923</td>\n",
       "      <td>eu to probe alitalia  state aid  the european ...</td>\n",
       "    </tr>\n",
       "    <tr>\n",
       "      <th>731</th>\n",
       "      <td>373</td>\n",
       "      <td>u2 to play at grammy awards show irish rock ba...</td>\n",
       "    </tr>\n",
       "    <tr>\n",
       "      <th>732</th>\n",
       "      <td>1704</td>\n",
       "      <td>sport betting rules in spotlight a group of mp...</td>\n",
       "    </tr>\n",
       "    <tr>\n",
       "      <th>733</th>\n",
       "      <td>206</td>\n",
       "      <td>alfa romeos  to get gm engines  fiat is to sto...</td>\n",
       "    </tr>\n",
       "    <tr>\n",
       "      <th>734</th>\n",
       "      <td>471</td>\n",
       "      <td>citizenship event for 18s touted citizenship c...</td>\n",
       "    </tr>\n",
       "  </tbody>\n",
       "</table>\n",
       "<p>735 rows × 2 columns</p>\n",
       "</div>"
      ],
      "text/plain": [
       "     ArticleId                                               Text\n",
       "0         1018  qpr keeper day heads for preston queens park r...\n",
       "1         1319  software watching while you work software that...\n",
       "2         1138  d arcy injury adds to ireland woe gordon d arc...\n",
       "3          459  india s reliance family feud heats up the ongo...\n",
       "4         1020  boro suffer morrison injury blow middlesbrough...\n",
       "..         ...                                                ...\n",
       "730       1923  eu to probe alitalia  state aid  the european ...\n",
       "731        373  u2 to play at grammy awards show irish rock ba...\n",
       "732       1704  sport betting rules in spotlight a group of mp...\n",
       "733        206  alfa romeos  to get gm engines  fiat is to sto...\n",
       "734        471  citizenship event for 18s touted citizenship c...\n",
       "\n",
       "[735 rows x 2 columns]"
      ]
     },
     "metadata": {},
     "output_type": "display_data"
    },
    {
     "data": {
      "text/html": [
       "<div>\n",
       "<style scoped>\n",
       "    .dataframe tbody tr th:only-of-type {\n",
       "        vertical-align: middle;\n",
       "    }\n",
       "\n",
       "    .dataframe tbody tr th {\n",
       "        vertical-align: top;\n",
       "    }\n",
       "\n",
       "    .dataframe thead th {\n",
       "        text-align: right;\n",
       "    }\n",
       "</style>\n",
       "<table border=\"1\" class=\"dataframe\">\n",
       "  <thead>\n",
       "    <tr style=\"text-align: right;\">\n",
       "      <th></th>\n",
       "      <th>ArticleId</th>\n",
       "      <th>Category</th>\n",
       "    </tr>\n",
       "  </thead>\n",
       "  <tbody>\n",
       "    <tr>\n",
       "      <th>0</th>\n",
       "      <td>1018</td>\n",
       "      <td>sport</td>\n",
       "    </tr>\n",
       "    <tr>\n",
       "      <th>1</th>\n",
       "      <td>1319</td>\n",
       "      <td>tech</td>\n",
       "    </tr>\n",
       "    <tr>\n",
       "      <th>2</th>\n",
       "      <td>1138</td>\n",
       "      <td>business</td>\n",
       "    </tr>\n",
       "    <tr>\n",
       "      <th>3</th>\n",
       "      <td>459</td>\n",
       "      <td>entertainment</td>\n",
       "    </tr>\n",
       "    <tr>\n",
       "      <th>4</th>\n",
       "      <td>1020</td>\n",
       "      <td>politics</td>\n",
       "    </tr>\n",
       "    <tr>\n",
       "      <th>...</th>\n",
       "      <td>...</td>\n",
       "      <td>...</td>\n",
       "    </tr>\n",
       "    <tr>\n",
       "      <th>730</th>\n",
       "      <td>1923</td>\n",
       "      <td>sport</td>\n",
       "    </tr>\n",
       "    <tr>\n",
       "      <th>731</th>\n",
       "      <td>373</td>\n",
       "      <td>tech</td>\n",
       "    </tr>\n",
       "    <tr>\n",
       "      <th>732</th>\n",
       "      <td>1704</td>\n",
       "      <td>business</td>\n",
       "    </tr>\n",
       "    <tr>\n",
       "      <th>733</th>\n",
       "      <td>206</td>\n",
       "      <td>entertainment</td>\n",
       "    </tr>\n",
       "    <tr>\n",
       "      <th>734</th>\n",
       "      <td>471</td>\n",
       "      <td>politics</td>\n",
       "    </tr>\n",
       "  </tbody>\n",
       "</table>\n",
       "<p>735 rows × 2 columns</p>\n",
       "</div>"
      ],
      "text/plain": [
       "     ArticleId       Category\n",
       "0         1018          sport\n",
       "1         1319           tech\n",
       "2         1138       business\n",
       "3          459  entertainment\n",
       "4         1020       politics\n",
       "..         ...            ...\n",
       "730       1923          sport\n",
       "731        373           tech\n",
       "732       1704       business\n",
       "733        206  entertainment\n",
       "734        471       politics\n",
       "\n",
       "[735 rows x 2 columns]"
      ]
     },
     "metadata": {},
     "output_type": "display_data"
    },
    {
     "name": "stdout",
     "output_type": "stream",
     "text": [
      "No missing values found in the dataset.\n",
      "No missing values found in the dataset.\n",
      "<class 'pandas.core.frame.DataFrame'>\n",
      "RangeIndex: 1490 entries, 0 to 1489\n",
      "Data columns (total 3 columns):\n",
      " #   Column     Non-Null Count  Dtype \n",
      "---  ------     --------------  ----- \n",
      " 0   ArticleId  1490 non-null   int64 \n",
      " 1   Text       1490 non-null   object\n",
      " 2   Category   1490 non-null   object\n",
      "dtypes: int64(1), object(2)\n",
      "memory usage: 35.0+ KB\n"
     ]
    },
    {
     "data": {
      "text/plain": [
       "<BarContainer object of 5 artists>"
      ]
     },
     "execution_count": 5,
     "metadata": {},
     "output_type": "execute_result"
    },
    {
     "data": {
      "image/png": "[encoded data removed]",
      "text/plain": [
       "<Figure size 576x360 with 1 Axes>"
      ]
     },
     "metadata": {
      "needs_background": "light"
     },
     "output_type": "display_data"
    }
   ],
   "source": [
    "# Obtain file paths to data\n",
    "fname_train = r\"/kaggle/input/learn-ai-bbc/BBC News Train.csv\"\n",
    "fname_test = r\"/kaggle/input/learn-ai-bbc/BBC News Test.csv\"\n",
    "fname_sample = r\"/kaggle/input/learn-ai-bbc/BBC News Sample Solution.csv\"\n",
    "\n",
    "# Load data as DataFrames\n",
    "df_train = pd.read_csv(fname_train)\n",
    "df_test = pd.read_csv(fname_test)\n",
    "df_sample = pd.read_csv(fname_sample)\n",
    "\n",
    "display(df_train)\n",
    "display(df_test)\n",
    "display(df_sample)\n",
    "\n",
    "# Search for missing values in the training and testing set\n",
    "klib.missingval_plot(df_train)\n",
    "klib.missingval_plot(df_test)\n",
    "\n",
    "# Inspect the training data\n",
    "df_train.info()\n",
    "\n",
    "# Examine the distribution of different categoies\n",
    "counts = df_train[\"Category\"].value_counts()\n",
    "categories = counts.index\n",
    "n_categories = len(categories)\n",
    "\n",
    "fig, ax = plt.subplots(figsize=(8, 5))\n",
    "ax.set_xlabel(\"Category\")\n",
    "ax.set_ylabel(\"Frequency\")\n",
    "ax.bar(\n",
    "    x=range(n_categories),\n",
    "    height=counts.to_list(),\n",
    "    tick_label=counts.index\n",
    ")"
   ]
  },
  {
   "cell_type": "markdown",
   "id": "8493d774",
   "metadata": {
    "execution": {
     "iopub.execute_input": "2022-06-20T23:33:50.342840Z",
     "iopub.status.busy": "2022-06-20T23:33:50.342415Z",
     "iopub.status.idle": "2022-06-20T23:33:50.351504Z",
     "shell.execute_reply": "2022-06-20T23:33:50.350673Z",
     "shell.execute_reply.started": "2022-06-20T23:33:50.342810Z"
    },
    "papermill": {
     "duration": 0.007757,
     "end_time": "2022-06-21T05:51:23.545519",
     "exception": false,
     "start_time": "2022-06-21T05:51:23.537762",
     "status": "completed"
    },
    "tags": []
   },
   "source": [
    "## 2. Data Processing\n",
    "By initializing our Data() class, we will be able to vectorize the text into a TF-IDF matrix and prepare it for model building and training. TF-IDF is an acronym for *Term Frequency - Inverse Document Frequency*. A TF-IDF matrix allows us to determine how important each given word (feature) is in a set of documents. We can compute the term frequency as follows:\n",
    "\n",
    "$$\n",
    "t_f(w, d) = \\log(1 + f(w, d)),\n",
    "$$\n",
    "\n",
    "where $f(w, d))$ represents the frequency of a given word, $w$, in a document, $d$. The inverse document frequency is then simply\n",
    "\n",
    "$$\n",
    "id_f(w, D) = \\log\\left(\\frac{N}{f(w, D)}\\right),\n",
    "$$\n",
    "\n",
    "where $f(w, D)$ is the frequency of a given word, $w$, in the entire set of documents, $D$, and $N$ is the total number of documents. It can be easily seen that as as the document frequency increases, the inverse document frequency will decrease. Lastly, we can combine these principle to compute the term frequency-inverse document frequency as the product between the term frequency and inverse document frequency:\n",
    "\n",
    "$$\n",
    "tfid_f(w, d, D) = t_f(w,d) \\cdot id_f(w, D)\n",
    "$$\n",
    "\n",
    "This estimates the *importance* of individual words (features). To prevent unecessary words that appear in all documents, we set a minimum word frequency threshold of 50 before it can be factored into the computation"
   ]
  },
  {
   "cell_type": "code",
   "execution_count": 6,
   "id": "3a4481bf",
   "metadata": {
    "execution": {
     "iopub.execute_input": "2022-06-21T05:51:23.560580Z",
     "iopub.status.busy": "2022-06-21T05:51:23.559945Z",
     "iopub.status.idle": "2022-06-21T05:51:24.230315Z",
     "shell.execute_reply": "2022-06-21T05:51:24.229373Z"
    },
    "papermill": {
     "duration": 0.680404,
     "end_time": "2022-06-21T05:51:24.232518",
     "exception": false,
     "start_time": "2022-06-21T05:51:23.552114",
     "status": "completed"
    },
    "tags": []
   },
   "outputs": [
    {
     "name": "stdout",
     "output_type": "stream",
     "text": [
      "BBC News Data:\n",
      "├── Categories:         ['business' 'tech' 'politics' 'sport' 'entertainment']\n",
      "├── # Categories:       5\n",
      "├── Train Observations: 1490\n",
      "└── Test Observations:  735\n",
      "\n",
      "Train TF-IDF Matrix: (1490, 937)\n",
      "Test TF-IDF Matrix:  (735, 937)\n",
      "\n",
      "Fitted Models:\n",
      "{}\n"
     ]
    }
   ],
   "source": [
    "# Create our Data() class to ingest process our data and create a TF-IDF matrix for model fitting\n",
    "data = Data(df_train, df_test)\n",
    "print(data)"
   ]
  },
  {
   "cell_type": "markdown",
   "id": "4ecb16ce",
   "metadata": {
    "papermill": {
     "duration": 0.009272,
     "end_time": "2022-06-21T05:51:24.251804",
     "exception": false,
     "start_time": "2022-06-21T05:51:24.242532",
     "status": "completed"
    },
    "tags": []
   },
   "source": [
    "## 3. Model Building\n",
    "As mentioned previously, we will build 3 models: a non-negative matrix factorization model (NMF), a random forest model, and a ada boost model. The supervised model approaches will allow us to compare the effectiveness of a relatively unsupervised method (NMF). In NMF, we aim to approximate the input matrix, which is created by our TF-IDF vectorizer, as the product of 2 smaller matrices. That is, $\\mathbf{V} \\approx \\mathbf{WH}$. The feature matrix, $\\mathbf{W}$, will approximate the relative importance of each feature in each row. Thus, when we make predictions, we simply assign the observation to the cluster with the maximial feature importance. The rows of the coefficient matrix, $\\mathbf{H}$ correspond to each document, where the columns correspond to the importance of a given feature (word). \n",
    "\n",
    "Because of this, we *train* the model with the TF-IDF matrix created from the training data. So the dimensionality and features of the testing and training data are consistent, we will create the TF-IDF from the testing data by transforming the training data's TF-IDF matrix. As such, testing the NMF will only utilize words seen in both the training and testing data since our matrices are of fixed dimensions.\n",
    "\n",
    "NMF comes with multiple loss functions, `frobenius`, `kullback-leibler`, and `itakura-saito`. Since `itakura-saito` does not work with a negative beta-loss, we are unable to work with the loss function on the data. We will experiment with altering the other 2 and see which give the best performance."
   ]
  },
  {
   "cell_type": "markdown",
   "id": "3eae7de3",
   "metadata": {
    "papermill": {
     "duration": 0.009348,
     "end_time": "2022-06-21T05:51:24.270442",
     "exception": false,
     "start_time": "2022-06-21T05:51:24.261094",
     "status": "completed"
    },
    "tags": []
   },
   "source": [
    "### 3.1. Non-negative Matrix Factorization Model"
   ]
  },
  {
   "cell_type": "markdown",
   "id": "a0bf2431",
   "metadata": {
    "papermill": {
     "duration": 0.009319,
     "end_time": "2022-06-21T05:51:24.289700",
     "exception": false,
     "start_time": "2022-06-21T05:51:24.280381",
     "status": "completed"
    },
    "tags": []
   },
   "source": [
    "#### 3.1.1 Frobenius Loss"
   ]
  },
  {
   "cell_type": "code",
   "execution_count": 7,
   "id": "2f4ac941",
   "metadata": {
    "execution": {
     "iopub.execute_input": "2022-06-21T05:51:24.310628Z",
     "iopub.status.busy": "2022-06-21T05:51:24.309876Z",
     "iopub.status.idle": "2022-06-21T05:51:24.878371Z",
     "shell.execute_reply": "2022-06-21T05:51:24.877391Z"
    },
    "papermill": {
     "duration": 0.581548,
     "end_time": "2022-06-21T05:51:24.880850",
     "exception": false,
     "start_time": "2022-06-21T05:51:24.299302",
     "status": "completed"
    },
    "tags": []
   },
   "outputs": [
    {
     "name": "stderr",
     "output_type": "stream",
     "text": [
      "/opt/conda/lib/python3.7/site-packages/sklearn/decomposition/_nmf.py:294: FutureWarning: The 'init' value, when 'init=None' and n_components is less than n_samples and n_features, will be changed from 'nndsvd' to 'nndsvda' in 1.1 (renaming of 0.26).\n",
      "  FutureWarning,\n"
     ]
    },
    {
     "name": "stdout",
     "output_type": "stream",
     "text": [
      "{4: 'business', 2: 'tech', 0: 'politics', 1: 'sport', 3: 'entertainment'}\n",
      "               precision    recall  f1-score   support\n",
      "\n",
      "     business       0.95      0.86      0.90       336\n",
      "entertainment       0.95      0.63      0.76       273\n",
      "     politics       0.78      0.97      0.86       274\n",
      "        sport       0.87      0.97      0.91       346\n",
      "         tech       0.84      0.89      0.87       261\n",
      "\n",
      "     accuracy                           0.87      1490\n",
      "    macro avg       0.88      0.86      0.86      1490\n",
      " weighted avg       0.88      0.87      0.86      1490\n",
      "\n"
     ]
    },
    {
     "data": {
      "text/plain": [
       "(<Figure size 936x576 with 2 Axes>,\n",
       " <AxesSubplot:title={'center':'Confusion Matrix'}, xlabel='Predicted', ylabel='Truth'>)"
      ]
     },
     "execution_count": 7,
     "metadata": {},
     "output_type": "execute_result"
    },
    {
     "data": {
      "image/png": "[encoded data removed]",
      "text/plain": [
       "<Figure size 936x576 with 2 Axes>"
      ]
     },
     "metadata": {
      "needs_background": "light"
     },
     "output_type": "display_data"
    }
   ],
   "source": [
    "# Fit the NMF model \n",
    "data.fit_nmf()\n",
    "\n",
    "# Obtain the fitted training examples\n",
    "nmf_fitted = data.predict_nmf()\n",
    "\n",
    "# Map the fitted values to labels\n",
    "mapping = labels_to_indices(nmf_fitted, data.train_y, labels=data.categories)# To avoid divergence in itakura-saito, we must add small values to our training data\n",
    "\n",
    "mapping_r = {v:k for k, v in mapping.items()}\n",
    "print(mapping_r)\n",
    "\n",
    "# Apply the mapping to our fitted data\n",
    "nmf_fitted = [mapping_r[a] for a in nmf_fitted]\n",
    "\n",
    "# Create a classification report\n",
    "print(classification_report(data.train_y, nmf_fitted))\n",
    "\n",
    "# We'll also create a confusion matrix\n",
    "cm_nmf = confusion_matrix(data.train_y, nmf_fitted)\n",
    "plot_confusion_matrix(cm_nmf, data.categories)\n",
    "\n"
   ]
  },
  {
   "cell_type": "markdown",
   "id": "8ac50405",
   "metadata": {
    "papermill": {
     "duration": 0.01067,
     "end_time": "2022-06-21T05:51:24.902542",
     "exception": false,
     "start_time": "2022-06-21T05:51:24.891872",
     "status": "completed"
    },
    "tags": []
   },
   "source": [
    "#### 3.1.2 Kullback-Leibler Loss"
   ]
  },
  {
   "cell_type": "code",
   "execution_count": 8,
   "id": "810e341c",
   "metadata": {
    "execution": {
     "iopub.execute_input": "2022-06-21T05:51:24.926799Z",
     "iopub.status.busy": "2022-06-21T05:51:24.926259Z",
     "iopub.status.idle": "2022-06-21T05:51:27.288621Z",
     "shell.execute_reply": "2022-06-21T05:51:27.287967Z"
    },
    "papermill": {
     "duration": 2.376175,
     "end_time": "2022-06-21T05:51:27.290110",
     "exception": false,
     "start_time": "2022-06-21T05:51:24.913935",
     "status": "completed"
    },
    "tags": []
   },
   "outputs": [
    {
     "name": "stderr",
     "output_type": "stream",
     "text": [
      "/opt/conda/lib/python3.7/site-packages/sklearn/decomposition/_nmf.py:294: FutureWarning: The 'init' value, when 'init=None' and n_components is less than n_samples and n_features, will be changed from 'nndsvd' to 'nndsvda' in 1.1 (renaming of 0.26).\n",
      "  FutureWarning,\n"
     ]
    },
    {
     "name": "stdout",
     "output_type": "stream",
     "text": [
      "               precision    recall  f1-score   support\n",
      "\n",
      "     business       0.96      0.85      0.90       336\n",
      "entertainment       0.97      0.85      0.91       273\n",
      "     politics       0.76      0.97      0.85       274\n",
      "        sport       0.94      0.95      0.94       346\n",
      "         tech       0.90      0.89      0.89       261\n",
      "\n",
      "     accuracy                           0.90      1490\n",
      "    macro avg       0.91      0.90      0.90      1490\n",
      " weighted avg       0.91      0.90      0.90      1490\n",
      "\n"
     ]
    },
    {
     "data": {
      "text/plain": [
       "(<Figure size 936x576 with 2 Axes>,\n",
       " <AxesSubplot:title={'center':'Confusion Matrix'}, xlabel='Predicted', ylabel='Truth'>)"
      ]
     },
     "execution_count": 8,
     "metadata": {},
     "output_type": "execute_result"
    },
    {
     "data": {
      "image/png": "[encoded data removed]",
      "text/plain": [
       "<Figure size 936x576 with 2 Axes>"
      ]
     },
     "metadata": {
      "needs_background": "light"
     },
     "output_type": "display_data"
    }
   ],
   "source": [
    "# Fit the NMF model \n",
    "data.fit_nmf(beta_loss=\"kullback-leibler\")\n",
    "\n",
    "# Obtain the fitted training examples\n",
    "nmf_fitted_kl = data.predict_nmf(beta_loss=\"kullback-leibler\")\n",
    "\n",
    "# Map the fitted values to labels\n",
    "mapping_kl = labels_to_indices(nmf_fitted_kl, data.train_y, labels=data.categories)\n",
    "mapping_kl_r = {v:k for k, v in mapping_kl.items()}\n",
    "\n",
    "# Apply the mapping to our fitted data\n",
    "nmf_fitted_kl = [mapping_kl_r[a] for a in nmf_fitted_kl]\n",
    "\n",
    "# Create a classification report\n",
    "print(classification_report(data.train_y, nmf_fitted_kl))\n",
    "\n",
    "# We'll also create a confusion matrix\n",
    "cm_nmf_kl = confusion_matrix(data.train_y, nmf_fitted_kl)\n",
    "plot_confusion_matrix(cm_nmf_kl, data.categories)"
   ]
  },
  {
   "cell_type": "markdown",
   "id": "d6ddc0b1",
   "metadata": {
    "papermill": {
     "duration": 0.006945,
     "end_time": "2022-06-21T05:51:27.304383",
     "exception": false,
     "start_time": "2022-06-21T05:51:27.297438",
     "status": "completed"
    },
    "tags": []
   },
   "source": [
    "### 3.2. Random Forest Model"
   ]
  },
  {
   "cell_type": "code",
   "execution_count": 9,
   "id": "02619998",
   "metadata": {
    "execution": {
     "iopub.execute_input": "2022-06-21T05:51:27.320392Z",
     "iopub.status.busy": "2022-06-21T05:51:27.319711Z",
     "iopub.status.idle": "2022-06-21T05:51:30.394609Z",
     "shell.execute_reply": "2022-06-21T05:51:30.393570Z"
    },
    "papermill": {
     "duration": 3.085205,
     "end_time": "2022-06-21T05:51:30.396649",
     "exception": false,
     "start_time": "2022-06-21T05:51:27.311444",
     "status": "completed"
    },
    "tags": []
   },
   "outputs": [
    {
     "name": "stdout",
     "output_type": "stream",
     "text": [
      "               precision    recall  f1-score   support\n",
      "\n",
      "     business       1.00      1.00      1.00       336\n",
      "entertainment       1.00      1.00      1.00       273\n",
      "     politics       1.00      1.00      1.00       274\n",
      "        sport       1.00      1.00      1.00       346\n",
      "         tech       1.00      1.00      1.00       261\n",
      "\n",
      "     accuracy                           1.00      1490\n",
      "    macro avg       1.00      1.00      1.00      1490\n",
      " weighted avg       1.00      1.00      1.00      1490\n",
      "\n"
     ]
    },
    {
     "data": {
      "text/plain": [
       "(<Figure size 936x576 with 2 Axes>,\n",
       " <AxesSubplot:title={'center':'Confusion Matrix'}, xlabel='Predicted', ylabel='Truth'>)"
      ]
     },
     "execution_count": 9,
     "metadata": {},
     "output_type": "execute_result"
    },
    {
     "data": {
      "image/png": "[encoded data removed]",
      "text/plain": [
       "<Figure size 936x576 with 2 Axes>"
      ]
     },
     "metadata": {
      "needs_background": "light"
     },
     "output_type": "display_data"
    }
   ],
   "source": [
    "# Fit the random forest model\n",
    "data.fit_random_forest()\n",
    "rf_fitted = data.predict_random_forest()\n",
    "\n",
    "# Create a classification report\n",
    "print(classification_report(data.train_y, rf_fitted))\n",
    "\n",
    "# We'll also create a confusion matrix\n",
    "cm_rf = confusion_matrix(data.train_y, rf_fitted)\n",
    "plot_confusion_matrix(cm_rf, data.categories)"
   ]
  },
  {
   "cell_type": "markdown",
   "id": "9bbbb294",
   "metadata": {
    "papermill": {
     "duration": 0.012367,
     "end_time": "2022-06-21T05:51:30.421827",
     "exception": false,
     "start_time": "2022-06-21T05:51:30.409460",
     "status": "completed"
    },
    "tags": []
   },
   "source": [
    "### 3.3. Ada Boost Model"
   ]
  },
  {
   "cell_type": "code",
   "execution_count": 10,
   "id": "f724ac86",
   "metadata": {
    "execution": {
     "iopub.execute_input": "2022-06-21T05:51:30.448124Z",
     "iopub.status.busy": "2022-06-21T05:51:30.447771Z",
     "iopub.status.idle": "2022-06-21T05:51:35.065301Z",
     "shell.execute_reply": "2022-06-21T05:51:35.064033Z"
    },
    "papermill": {
     "duration": 4.633118,
     "end_time": "2022-06-21T05:51:35.067326",
     "exception": false,
     "start_time": "2022-06-21T05:51:30.434208",
     "status": "completed"
    },
    "tags": []
   },
   "outputs": [
    {
     "name": "stdout",
     "output_type": "stream",
     "text": [
      "               precision    recall  f1-score   support\n",
      "\n",
      "     business       0.70      0.93      0.80       336\n",
      "entertainment       0.96      0.87      0.91       273\n",
      "     politics       0.99      0.74      0.84       274\n",
      "        sport       0.90      0.95      0.93       346\n",
      "         tech       0.97      0.85      0.91       261\n",
      "\n",
      "     accuracy                           0.88      1490\n",
      "    macro avg       0.91      0.87      0.88      1490\n",
      " weighted avg       0.90      0.88      0.88      1490\n",
      "\n"
     ]
    },
    {
     "data": {
      "text/plain": [
       "(<Figure size 936x576 with 2 Axes>,\n",
       " <AxesSubplot:title={'center':'Confusion Matrix'}, xlabel='Predicted', ylabel='Truth'>)"
      ]
     },
     "execution_count": 10,
     "metadata": {},
     "output_type": "execute_result"
    },
    {
     "data": {
      "image/png": "[encoded data removed]",
      "text/plain": [
       "<Figure size 936x576 with 2 Axes>"
      ]
     },
     "metadata": {
      "needs_background": "light"
     },
     "output_type": "display_data"
    }
   ],
   "source": [
    "# Fit the ada boost model\n",
    "data.fit_ada_boost()\n",
    "ada_fitted = data.predict_ada_boost()\n",
    "\n",
    "# Create a classification report\n",
    "print(classification_report(data.train_y, ada_fitted))\n",
    "\n",
    "# We'll also create a confusion matrix\n",
    "cm_ada = confusion_matrix(data.train_y, ada_fitted)\n",
    "plot_confusion_matrix(cm_ada, data.categories)"
   ]
  },
  {
   "cell_type": "markdown",
   "id": "be590844",
   "metadata": {
    "papermill": {
     "duration": 0.008569,
     "end_time": "2022-06-21T05:51:35.084641",
     "exception": false,
     "start_time": "2022-06-21T05:51:35.076072",
     "status": "completed"
    },
    "tags": []
   },
   "source": [
    "## 4. Model Submission"
   ]
  },
  {
   "cell_type": "code",
   "execution_count": 11,
   "id": "2a1f535c",
   "metadata": {
    "execution": {
     "iopub.execute_input": "2022-06-21T05:51:35.102608Z",
     "iopub.status.busy": "2022-06-21T05:51:35.102299Z",
     "iopub.status.idle": "2022-06-21T05:51:35.108552Z",
     "shell.execute_reply": "2022-06-21T05:51:35.108089Z"
    },
    "papermill": {
     "duration": 0.018039,
     "end_time": "2022-06-21T05:51:35.111236",
     "exception": false,
     "start_time": "2022-06-21T05:51:35.093197",
     "status": "completed"
    },
    "tags": []
   },
   "outputs": [
    {
     "name": "stdout",
     "output_type": "stream",
     "text": [
      "BBC News Data:\n",
      "├── Categories:         ['business' 'tech' 'politics' 'sport' 'entertainment']\n",
      "├── # Categories:       5\n",
      "├── Train Observations: 1490\n",
      "└── Test Observations:  735\n",
      "\n",
      "Train TF-IDF Matrix: (1490, 937)\n",
      "Test TF-IDF Matrix:  (735, 937)\n",
      "\n",
      "Fitted Models:\n",
      "{'nmf-frobenius': NMF(n_components=5, solver='mu'), 'nmf-kullback-leibler': NMF(beta_loss='kullback-leibler', n_components=5, solver='mu'), 'rf': RandomForestClassifier(n_estimators=250), 'ada': AdaBoostClassifier(n_estimators=250)}\n"
     ]
    }
   ],
   "source": [
    "# View our fitted models\n",
    "print(data)"
   ]
  },
  {
   "cell_type": "code",
   "execution_count": 12,
   "id": "46fc687b",
   "metadata": {
    "execution": {
     "iopub.execute_input": "2022-06-21T05:51:35.138898Z",
     "iopub.status.busy": "2022-06-21T05:51:35.138570Z",
     "iopub.status.idle": "2022-06-21T05:51:35.803670Z",
     "shell.execute_reply": "2022-06-21T05:51:35.802853Z"
    },
    "papermill": {
     "duration": 0.681461,
     "end_time": "2022-06-21T05:51:35.806409",
     "exception": false,
     "start_time": "2022-06-21T05:51:35.124948",
     "status": "completed"
    },
    "tags": []
   },
   "outputs": [
    {
     "name": "stdout",
     "output_type": "stream",
     "text": [
      "['submission.csv', '__notebook__.ipynb']\n"
     ]
    }
   ],
   "source": [
    "# Generate predictions for NMF, random forest, and adaboost\n",
    "nmf_predicted = data.predict_nmf(data.test_x)\n",
    "nmf_predicted = [mapping_r[a] for a in nmf_predicted]\n",
    "\n",
    "nmf_kl_predicted = data.predict_nmf(data.test_x, beta_loss=\"kullback-leibler\")\n",
    "nmf_kl_predicted = [mapping_kl_r[a] for a in nmf_kl_predicted]\n",
    "\n",
    "rf_predicted = data.predict_random_forest(data.test_x)\n",
    "\n",
    "ada_predicted = data.predict_ada_boost(data.test_x)\n",
    "\n",
    "# Create submission dataframes for each model\n",
    "df_submission = df_test.drop(labels=\"Text\", axis=1)\n",
    "\n",
    "# df_submission[\"Category\"] = nmf_predicted\n",
    "df_submission[\"Category\"] = nmf_kl_predicted\n",
    "# df_submission[\"Category\"] = rf_predicted\n",
    "# df_submission[\"Category\"] = ada_predicted\n",
    "\n",
    "df_submission.to_csv(\"submission.csv\", index=False)\n",
    "\n",
    "# Ensure the files were created\n",
    "print(os.listdir())"
   ]
  },
  {
   "cell_type": "markdown",
   "id": "35897d09",
   "metadata": {
    "papermill": {
     "duration": 0.012883,
     "end_time": "2022-06-21T05:51:35.833146",
     "exception": false,
     "start_time": "2022-06-21T05:51:35.820263",
     "status": "completed"
    },
    "tags": []
   },
   "source": [
    "## 5. Model Analysis and Comparsion\n",
    "Upon submitting each model, we find the testing accuracies for the corresponding models:\n",
    "\n",
    "| Model         | Accuracy |\n",
    "|---------------|----------|\n",
    "| NMF (Frob)    | 87.76    |\n",
    "| NMF (KL)      | 90.61    |\n",
    "| Random Forest | 95.51    |\n",
    "| Ada Boost     | 81.36    |\n",
    "\n",
    "Overall, the random forest performs best, but the NMF models still performs decently well. The NMF with a Frobenius loss has approximately 87.76% accuracy, while the kullback-leibler loss has slightly higher accuracy at 90.61%. Ada boost, surprisingly, does not perform particularly well. Perhaps this is due to the high-dimensional space. The ensemble process of random forest overcomes this much better than ada boost may. The NMF likely performs worse the random forest due to the fact the NMF is an unsupervised task and we must rely purely on grouping similar data together."
   ]
  }
 ],
 "metadata": {
  "kernelspec": {
   "display_name": "Python 3",
   "language": "python",
   "name": "python3"
  },
  "language_info": {
   "codemirror_mode": {
    "name": "ipython",
    "version": 3
   },
   "file_extension": ".py",
   "mimetype": "text/x-python",
   "name": "python",
   "nbconvert_exporter": "python",
   "pygments_lexer": "ipython3",
   "version": "3.7.12"
  },
  "papermill": {
   "default_parameters": {},
   "duration": 41.391104,
   "end_time": "2022-06-21T05:51:36.666178",
   "environment_variables": {},
   "exception": null,
   "input_path": "__notebook__.ipynb",
   "output_path": "__notebook__.ipynb",
   "parameters": {},
   "start_time": "2022-06-21T05:50:55.275074",
   "version": "2.3.4"
  }
 },
 "nbformat": 4,
 "nbformat_minor": 5
}
